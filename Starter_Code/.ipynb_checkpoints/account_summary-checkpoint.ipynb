{
 "cells": [
  {
   "cell_type": "code",
   "execution_count": 1,
   "metadata": {},
   "outputs": [],
   "source": [
    "import os\n",
    "import plaid\n",
    "import requests\n",
    "import datetime\n",
    "import json\n",
    "import pandas as pd\n",
    "%matplotlib inline"
   ]
  },
  {
   "cell_type": "code",
   "execution_count": 2,
   "metadata": {},
   "outputs": [],
   "source": [
    "def pretty_print_response(response):\n",
    "  print(json.dumps(response, indent=4, sort_keys=True))"
   ]
  },
  {
   "cell_type": "code",
   "execution_count": 3,
   "metadata": {},
   "outputs": [],
   "source": [
    "PLAID_CLIENT_ID = os.getenv('PLAID_CLIENT_ID')\n",
    "PLAID_SECRET = os.getenv('PLAID_SECRET')\n",
    "PLAID_PUBLIC_KEY = os.getenv('PLAID_PUBLIC_KEY')\n",
    "PLAID_ENV = os.getenv('PLAID_ENV', 'sandbox')\n",
    "PLAID_PRODUCTS = os.getenv('PLAID_PRODUCTS', 'transactions')\n"
   ]
  },
  {
   "cell_type": "markdown",
   "metadata": {},
   "source": [
    "# Plaid Access Token\n",
    "\n",
    "In this section, you will use the plaid-python api to generate the correct authentication tokens to access data in the free developer Sandbox. This mimics how you might connect to your own account or a customer account, but due to privacy issues, this homework will only require connecting to and analyzing the fake data from the developer sandbox that Plaid provides. \n",
    "\n",
    "Complete the following steps to generate an access token:\n",
    "1. Create a client to connect to plaid\n",
    "2. Use the client to generate a public token and request the following items: \n",
    "['transactions', 'income', 'assets']\n",
    "3. Exchange the public token for an access token\n",
    "4. Test the access token by requesting and printing the available test accounts"
   ]
  },
  {
   "cell_type": "markdown",
   "metadata": {},
   "source": [
    "### 1. Create a client to connect to plaid"
   ]
  },
  {
   "cell_type": "code",
   "execution_count": 4,
   "metadata": {},
   "outputs": [],
   "source": [
    "INSTITUTION_ID = \"ins_109508\""
   ]
  },
  {
   "cell_type": "code",
   "execution_count": 5,
   "metadata": {},
   "outputs": [],
   "source": [
    "client = plaid.Client(client_id=PLAID_CLIENT_ID, secret=PLAID_SECRET, public_key=PLAID_PUBLIC_KEY, environment='sandbox')"
   ]
  },
  {
   "cell_type": "code",
   "execution_count": 6,
   "metadata": {},
   "outputs": [
    {
     "data": {
      "text/plain": [
       "{'institutions': [{'country_codes': ['CA'],\n",
       "   'credentials': [{'label': 'Login ID', 'name': 'username', 'type': 'text'},\n",
       "    {'label': 'Access Code (PAC)', 'name': 'password', 'type': 'password'}],\n",
       "   'has_mfa': True,\n",
       "   'input_spec': 'fixed',\n",
       "   'institution_id': 'ins_118841',\n",
       "   'mfa': ['code', 'list', 'questions', 'selections'],\n",
       "   'mfa_code_type': 'numeric',\n",
       "   'name': 'Access Credit Union - Online Banking',\n",
       "   'products': ['assets', 'balance', 'transactions', 'income', 'identity'],\n",
       "   'routing_numbers': []},\n",
       "  {'country_codes': ['GB'],\n",
       "   'credentials': [{'label': 'Username', 'name': 'username', 'type': 'text'},\n",
       "    {'label': 'Password', 'name': 'password', 'type': 'password'}],\n",
       "   'has_mfa': True,\n",
       "   'input_spec': 'fixed',\n",
       "   'institution_id': 'ins_119371',\n",
       "   'mfa': ['code', 'list', 'questions', 'selections'],\n",
       "   'mfa_code_type': 'numeric',\n",
       "   'name': 'Aegon (Online Services)',\n",
       "   'products': ['investments'],\n",
       "   'routing_numbers': []}],\n",
       " 'request_id': 'Gmnsot3gAXWrGUt',\n",
       " 'total': 11237}"
      ]
     },
     "execution_count": 6,
     "metadata": {},
     "output_type": "execute_result"
    }
   ],
   "source": [
    "client.Institutions.get(2)"
   ]
  },
  {
   "cell_type": "markdown",
   "metadata": {},
   "source": [
    "### 2. Generate a public token"
   ]
  },
  {
   "cell_type": "code",
   "execution_count": 7,
   "metadata": {},
   "outputs": [],
   "source": [
    "# YOUR CODE HERE\n",
    "create_tkn_response = client.Sandbox.public_token.create(INSTITUTION_ID, ['transactions'])"
   ]
  },
  {
   "cell_type": "markdown",
   "metadata": {},
   "source": [
    "### 3. Exchange the public token for an access token"
   ]
  },
  {
   "cell_type": "code",
   "execution_count": 8,
   "metadata": {},
   "outputs": [],
   "source": [
    "# YOUR CODE HERE\n",
    "exchange_response = client.Item.public_token.exchange(create_tkn_response['public_token'])\n",
    "access_token = exchange_response['access_token']"
   ]
  },
  {
   "cell_type": "markdown",
   "metadata": {},
   "source": [
    "### 4. Fetch Accounts"
   ]
  },
  {
   "cell_type": "code",
   "execution_count": 9,
   "metadata": {},
   "outputs": [
    {
     "data": {
      "text/plain": [
       "{'accounts': [{'account_id': 'NlxRyGDy5rUxGQNb1EobI39PPLxzdWFWGzKeB',\n",
       "   'balances': {'available': 100,\n",
       "    'current': 110,\n",
       "    'iso_currency_code': 'USD',\n",
       "    'limit': None,\n",
       "    'unofficial_currency_code': None},\n",
       "   'mask': '0000',\n",
       "   'name': 'Plaid Checking',\n",
       "   'official_name': 'Plaid Gold Standard 0% Interest Checking',\n",
       "   'subtype': 'checking',\n",
       "   'type': 'depository'},\n",
       "  {'account_id': 'PKabAqDA5BFa14NyKpnyhZe77WwnJMF7env3x',\n",
       "   'balances': {'available': 200,\n",
       "    'current': 210,\n",
       "    'iso_currency_code': 'USD',\n",
       "    'limit': None,\n",
       "    'unofficial_currency_code': None},\n",
       "   'mask': '1111',\n",
       "   'name': 'Plaid Saving',\n",
       "   'official_name': 'Plaid Silver Standard 0.1% Interest Saving',\n",
       "   'subtype': 'savings',\n",
       "   'type': 'depository'},\n",
       "  {'account_id': 'jGqb6An6l8IerEVva1bvU9pQQzbLX1S17jApr',\n",
       "   'balances': {'available': None,\n",
       "    'current': 1000,\n",
       "    'iso_currency_code': 'USD',\n",
       "    'limit': None,\n",
       "    'unofficial_currency_code': None},\n",
       "   'mask': '2222',\n",
       "   'name': 'Plaid CD',\n",
       "   'official_name': 'Plaid Bronze Standard 0.2% Interest CD',\n",
       "   'subtype': 'cd',\n",
       "   'type': 'depository'},\n",
       "  {'account_id': '74MpNBDNE9sgz3G4Lo84sWDjjepLNEHg5apvD',\n",
       "   'balances': {'available': None,\n",
       "    'current': 410,\n",
       "    'iso_currency_code': 'USD',\n",
       "    'limit': 2000,\n",
       "    'unofficial_currency_code': None},\n",
       "   'mask': '3333',\n",
       "   'name': 'Plaid Credit Card',\n",
       "   'official_name': 'Plaid Diamond 12.5% APR Interest Credit Card',\n",
       "   'subtype': 'credit card',\n",
       "   'type': 'credit'},\n",
       "  {'account_id': 'egkvDoWD5mHJ6e1VRloVFmBzzWa8AeFLbXk66',\n",
       "   'balances': {'available': 43200,\n",
       "    'current': 43200,\n",
       "    'iso_currency_code': 'USD',\n",
       "    'limit': None,\n",
       "    'unofficial_currency_code': None},\n",
       "   'mask': '4444',\n",
       "   'name': 'Plaid Money Market',\n",
       "   'official_name': 'Plaid Platinum Standard 1.85% Interest Money Market',\n",
       "   'subtype': 'money market',\n",
       "   'type': 'depository'},\n",
       "  {'account_id': 'Qr4JAKDA53svbKNX4rnXcVGZZJnWwLfpgnDKK',\n",
       "   'balances': {'available': None,\n",
       "    'current': 320.76,\n",
       "    'iso_currency_code': 'USD',\n",
       "    'limit': None,\n",
       "    'unofficial_currency_code': None},\n",
       "   'mask': '5555',\n",
       "   'name': 'Plaid IRA',\n",
       "   'official_name': None,\n",
       "   'subtype': 'ira',\n",
       "   'type': 'investment'},\n",
       "  {'account_id': 'ZP1qANWA5msvr83VDpnVcaM88WAEnQCgEvG7M',\n",
       "   'balances': {'available': None,\n",
       "    'current': 23631.9805,\n",
       "    'iso_currency_code': 'USD',\n",
       "    'limit': None,\n",
       "    'unofficial_currency_code': None},\n",
       "   'mask': '6666',\n",
       "   'name': 'Plaid 401k',\n",
       "   'official_name': None,\n",
       "   'subtype': '401k',\n",
       "   'type': 'investment'},\n",
       "  {'account_id': 'My37VADV5Ku3dEPwvzpwHz3ggmR5oBC9W51Qq',\n",
       "   'balances': {'available': None,\n",
       "    'current': 65262,\n",
       "    'iso_currency_code': 'USD',\n",
       "    'limit': None,\n",
       "    'unofficial_currency_code': None},\n",
       "   'mask': '7777',\n",
       "   'name': 'Plaid Student Loan',\n",
       "   'official_name': None,\n",
       "   'subtype': 'student',\n",
       "   'type': 'loan'}],\n",
       " 'item': {'available_products': ['assets',\n",
       "   'auth',\n",
       "   'balance',\n",
       "   'credit_details',\n",
       "   'identity',\n",
       "   'income',\n",
       "   'investments',\n",
       "   'liabilities'],\n",
       "  'billed_products': ['transactions'],\n",
       "  'consent_expiration_time': None,\n",
       "  'error': None,\n",
       "  'institution_id': 'ins_109508',\n",
       "  'item_id': 'y4QVRjnRe8snLaxwQ7pwHdZ5rZZMxztymxwqJ',\n",
       "  'webhook': ''},\n",
       " 'request_id': '7wk93YIMzbUO9N5'}"
      ]
     },
     "execution_count": 9,
     "metadata": {},
     "output_type": "execute_result"
    }
   ],
   "source": [
    "# YOUR CODE HERE\n",
    "client.Accounts.get(access_token)"
   ]
  },
  {
   "cell_type": "markdown",
   "metadata": {},
   "source": [
    "---"
   ]
  },
  {
   "cell_type": "markdown",
   "metadata": {},
   "source": [
    "# Account Transactions with Plaid\n",
    "\n",
    "In this section, you will use the Plaid Python SDK to connect to the Developer Sandbox account and grab a list of transactions. You will need to complete the following steps:\n",
    "\n",
    "\n",
    "1. Use the access token to fetch the transactions for the last 90 days\n",
    "2. Print the categories for each transaction type\n",
    "3. Create a new DataFrame using the following fields from the JSON transaction data: `date, name, amount, category`. (For categories with more than one label, just use the first category label in the list)\n",
    "4. Convert the data types to the appropriate types (i.e. datetimeindex for the date and float for the amount)"
   ]
  },
  {
   "cell_type": "markdown",
   "metadata": {},
   "source": [
    "### 1. Fetch the Transactions for the last 90 days"
   ]
  },
  {
   "cell_type": "code",
   "execution_count": 10,
   "metadata": {},
   "outputs": [
    {
     "name": "stdout",
     "output_type": "stream",
     "text": [
      "[\n",
      "    {\n",
      "        \"account_id\": \"NlxRyGDy5rUxGQNb1EobI39PPLxzdWFWGzKeB\",\n",
      "        \"account_owner\": null,\n",
      "        \"amount\": 6.33,\n",
      "        \"authorized_date\": null,\n",
      "        \"category\": [\n",
      "            \"Travel\",\n",
      "            \"Taxi\"\n",
      "        ],\n",
      "        \"category_id\": \"22016000\",\n",
      "        \"date\": \"2020-01-29\",\n",
      "        \"iso_currency_code\": \"USD\",\n",
      "        \"location\": {\n",
      "            \"address\": null,\n",
      "            \"city\": null,\n",
      "            \"country\": null,\n",
      "            \"lat\": null,\n",
      "            \"lon\": null,\n",
      "            \"postal_code\": null,\n",
      "            \"region\": null,\n",
      "            \"store_number\": null\n",
      "        },\n",
      "        \"name\": \"Uber\",\n",
      "        \"payment_channel\": \"in store\",\n",
      "        \"payment_meta\": {\n",
      "            \"by_order_of\": null,\n",
      "            \"payee\": null,\n",
      "            \"payer\": null,\n",
      "            \"payment_method\": null,\n",
      "            \"payment_processor\": null,\n",
      "            \"ppd_id\": null,\n",
      "            \"reason\": null,\n",
      "            \"reference_number\": null\n",
      "        },\n",
      "        \"pending\": false,\n",
      "        \"pending_transaction_id\": null,\n",
      "        \"transaction_id\": \"74MpNBDNE9sgz3G4Lo84sWDZP73mLvhg5byPV\",\n",
      "        \"transaction_type\": \"special\",\n",
      "        \"unofficial_currency_code\": null\n",
      "    },\n",
      "    {\n",
      "        \"account_id\": \"74MpNBDNE9sgz3G4Lo84sWDjjepLNEHg5apvD\",\n",
      "        \"account_owner\": null,\n",
      "        \"amount\": 500,\n",
      "        \"authorized_date\": null,\n",
      "        \"category\": [\n",
      "            \"Food and Drink\",\n",
      "            \"Restaurants\"\n",
      "        ],\n",
      "        \"category_id\": \"13005000\",\n",
      "        \"date\": \"2020-01-26\",\n",
      "        \"iso_currency_code\": \"USD\",\n",
      "        \"location\": {\n",
      "            \"address\": null,\n",
      "            \"city\": null,\n",
      "            \"country\": null,\n",
      "            \"lat\": null,\n",
      "            \"lon\": null,\n",
      "            \"postal_code\": null,\n",
      "            \"region\": null,\n",
      "            \"store_number\": null\n",
      "        },\n",
      "        \"name\": \"Tectra Inc\",\n",
      "        \"payment_channel\": \"in store\",\n",
      "        \"payment_meta\": {\n",
      "            \"by_order_of\": null,\n",
      "            \"payee\": null,\n",
      "            \"payer\": null,\n",
      "            \"payment_method\": null,\n",
      "            \"payment_processor\": null,\n",
      "            \"ppd_id\": null,\n",
      "            \"reason\": null,\n",
      "            \"reference_number\": null\n",
      "        },\n",
      "        \"pending\": false,\n",
      "        \"pending_transaction_id\": null,\n",
      "        \"transaction_id\": \"8N1pP3EPk9T9BpmN6LlNSAMzmKpq3luwX7pBV\",\n",
      "        \"transaction_type\": \"place\",\n",
      "        \"unofficial_currency_code\": null\n",
      "    },\n",
      "    {\n",
      "        \"account_id\": \"74MpNBDNE9sgz3G4Lo84sWDjjepLNEHg5apvD\",\n",
      "        \"account_owner\": null,\n",
      "        \"amount\": 2078.5,\n",
      "        \"authorized_date\": null,\n",
      "        \"category\": [\n",
      "            \"Payment\"\n",
      "        ],\n",
      "        \"category_id\": \"16000000\",\n",
      "        \"date\": \"2020-01-25\",\n",
      "        \"iso_currency_code\": \"USD\",\n",
      "        \"location\": {\n",
      "            \"address\": null,\n",
      "            \"city\": null,\n",
      "            \"country\": null,\n",
      "            \"lat\": null,\n",
      "            \"lon\": null,\n",
      "            \"postal_code\": null,\n",
      "            \"region\": null,\n",
      "            \"store_number\": null\n",
      "        },\n",
      "        \"name\": \"AUTOMATIC PAYMENT - THANK\",\n",
      "        \"payment_channel\": \"other\",\n",
      "        \"payment_meta\": {\n",
      "            \"by_order_of\": null,\n",
      "            \"payee\": null,\n",
      "            \"payer\": null,\n",
      "            \"payment_method\": null,\n",
      "            \"payment_processor\": null,\n",
      "            \"ppd_id\": null,\n",
      "            \"reason\": null,\n",
      "            \"reference_number\": null\n",
      "        },\n",
      "        \"pending\": false,\n",
      "        \"pending_transaction_id\": null,\n",
      "        \"transaction_id\": \"ALGnWeEWRBUJvVqlW5alF7rDGaVNk4c1pLJmP\",\n",
      "        \"transaction_type\": \"special\",\n",
      "        \"unofficial_currency_code\": null\n",
      "    }\n",
      "]\n"
     ]
    }
   ],
   "source": [
    "# YOUR CODE HERE\n",
    "start_date = '{:%Y-%m-%d}'.format(datetime.datetime.now() + datetime.timedelta(-90))\n",
    "end_date = '{:%Y-%m-%d}'.format(datetime.datetime.now())\n",
    "transaction_response = client.Transactions.get(access_token, start_date, end_date)\n",
    "last_90_day_transactions = transaction_response['transactions']\n",
    "\n",
    "# to print first 3 items of the last_90_day_transactions\n",
    "print(json.dumps(last_90_day_transactions[0:3], indent=4, sort_keys=True))"
   ]
  },
  {
   "cell_type": "markdown",
   "metadata": {},
   "source": [
    "### 2. Print the categories for each transaction"
   ]
  },
  {
   "cell_type": "code",
   "execution_count": 11,
   "metadata": {},
   "outputs": [
    {
     "name": "stdout",
     "output_type": "stream",
     "text": [
      "[['Travel', 'Taxi'], ['Food and Drink', 'Restaurants']]\n"
     ]
    }
   ],
   "source": [
    "# YOUR CODE HERE\n",
    "# we needed to find how to work with the dictionary that was returned from the API rather than the JSON print out, which returns a string. \n",
    "# thus, we use the transaction_response variable directly\n",
    "# to iterate through transaction_response dictionary using for-loop list comprehension \n",
    "category_values = [i['category'] for i in last_90_day_transactions]\n",
    "first_two = category_values[:2]\n",
    "print(first_two)"
   ]
  },
  {
   "cell_type": "markdown",
   "metadata": {},
   "source": [
    "### 3. Create a new DataFrame using the following fields from the JSON transaction data: date, name, amount, category. \n",
    "\n",
    "(For categories with more than one label, just use the first category label in the list)"
   ]
  },
  {
   "cell_type": "code",
   "execution_count": 37,
   "metadata": {},
   "outputs": [
    {
     "data": {
      "text/html": [
       "<div>\n",
       "<style scoped>\n",
       "    .dataframe tbody tr th:only-of-type {\n",
       "        vertical-align: middle;\n",
       "    }\n",
       "\n",
       "    .dataframe tbody tr th {\n",
       "        vertical-align: top;\n",
       "    }\n",
       "\n",
       "    .dataframe thead th {\n",
       "        text-align: right;\n",
       "    }\n",
       "</style>\n",
       "<table border=\"1\" class=\"dataframe\">\n",
       "  <thead>\n",
       "    <tr style=\"text-align: right;\">\n",
       "      <th></th>\n",
       "      <th>amount</th>\n",
       "      <th>category</th>\n",
       "      <th>date</th>\n",
       "      <th>name</th>\n",
       "      <th>real category</th>\n",
       "      <th>other category</th>\n",
       "      <th>last column</th>\n",
       "    </tr>\n",
       "  </thead>\n",
       "  <tbody>\n",
       "    <tr>\n",
       "      <td>0</td>\n",
       "      <td>6.33</td>\n",
       "      <td>[Travel, Taxi]</td>\n",
       "      <td>2020-01-29</td>\n",
       "      <td>Uber</td>\n",
       "      <td>Travel</td>\n",
       "      <td>Taxi</td>\n",
       "      <td>None</td>\n",
       "    </tr>\n",
       "    <tr>\n",
       "      <td>1</td>\n",
       "      <td>500.00</td>\n",
       "      <td>[Food and Drink, Restaurants]</td>\n",
       "      <td>2020-01-26</td>\n",
       "      <td>Tectra Inc</td>\n",
       "      <td>Food and Drink</td>\n",
       "      <td>Restaurants</td>\n",
       "      <td>None</td>\n",
       "    </tr>\n",
       "    <tr>\n",
       "      <td>2</td>\n",
       "      <td>2078.50</td>\n",
       "      <td>[Payment]</td>\n",
       "      <td>2020-01-25</td>\n",
       "      <td>AUTOMATIC PAYMENT - THANK</td>\n",
       "      <td>Payment</td>\n",
       "      <td>None</td>\n",
       "      <td>None</td>\n",
       "    </tr>\n",
       "    <tr>\n",
       "      <td>3</td>\n",
       "      <td>500.00</td>\n",
       "      <td>[Food and Drink, Restaurants, Fast Food]</td>\n",
       "      <td>2020-01-25</td>\n",
       "      <td>KFC</td>\n",
       "      <td>Food and Drink</td>\n",
       "      <td>Restaurants</td>\n",
       "      <td>Fast Food</td>\n",
       "    </tr>\n",
       "    <tr>\n",
       "      <td>4</td>\n",
       "      <td>500.00</td>\n",
       "      <td>[Shops, Sporting Goods]</td>\n",
       "      <td>2020-01-25</td>\n",
       "      <td>Madison Bicycle Shop</td>\n",
       "      <td>Shops</td>\n",
       "      <td>Sporting Goods</td>\n",
       "      <td>None</td>\n",
       "    </tr>\n",
       "    <tr>\n",
       "      <td>5</td>\n",
       "      <td>25.00</td>\n",
       "      <td>[Payment, Credit Card]</td>\n",
       "      <td>2020-01-16</td>\n",
       "      <td>CREDIT CARD 3333 PAYMENT *//</td>\n",
       "      <td>Payment</td>\n",
       "      <td>Credit Card</td>\n",
       "      <td>None</td>\n",
       "    </tr>\n",
       "    <tr>\n",
       "      <td>6</td>\n",
       "      <td>5.40</td>\n",
       "      <td>[Travel, Taxi]</td>\n",
       "      <td>2020-01-16</td>\n",
       "      <td>Uber</td>\n",
       "      <td>Travel</td>\n",
       "      <td>Taxi</td>\n",
       "      <td>None</td>\n",
       "    </tr>\n",
       "    <tr>\n",
       "      <td>7</td>\n",
       "      <td>5850.00</td>\n",
       "      <td>[Transfer, Debit]</td>\n",
       "      <td>2020-01-15</td>\n",
       "      <td>ACH Electronic CreditGUSTO PAY 123456</td>\n",
       "      <td>Transfer</td>\n",
       "      <td>Debit</td>\n",
       "      <td>None</td>\n",
       "    </tr>\n",
       "    <tr>\n",
       "      <td>8</td>\n",
       "      <td>1000.00</td>\n",
       "      <td>[Transfer, Deposit]</td>\n",
       "      <td>2020-01-15</td>\n",
       "      <td>CD DEPOSIT .INITIAL.</td>\n",
       "      <td>Transfer</td>\n",
       "      <td>Deposit</td>\n",
       "      <td>None</td>\n",
       "    </tr>\n",
       "    <tr>\n",
       "      <td>9</td>\n",
       "      <td>78.50</td>\n",
       "      <td>[Recreation, Gyms and Fitness Centers]</td>\n",
       "      <td>2020-01-14</td>\n",
       "      <td>Touchstone Climbing</td>\n",
       "      <td>Recreation</td>\n",
       "      <td>Gyms and Fitness Centers</td>\n",
       "      <td>None</td>\n",
       "    </tr>\n",
       "    <tr>\n",
       "      <td>10</td>\n",
       "      <td>-500.00</td>\n",
       "      <td>[Travel, Airlines and Aviation Services]</td>\n",
       "      <td>2020-01-14</td>\n",
       "      <td>United Airlines</td>\n",
       "      <td>Travel</td>\n",
       "      <td>Airlines and Aviation Services</td>\n",
       "      <td>None</td>\n",
       "    </tr>\n",
       "    <tr>\n",
       "      <td>11</td>\n",
       "      <td>12.00</td>\n",
       "      <td>[Food and Drink, Restaurants, Fast Food]</td>\n",
       "      <td>2020-01-13</td>\n",
       "      <td>McDonald's</td>\n",
       "      <td>Food and Drink</td>\n",
       "      <td>Restaurants</td>\n",
       "      <td>Fast Food</td>\n",
       "    </tr>\n",
       "    <tr>\n",
       "      <td>12</td>\n",
       "      <td>4.33</td>\n",
       "      <td>[Food and Drink, Restaurants, Coffee Shop]</td>\n",
       "      <td>2020-01-13</td>\n",
       "      <td>Starbucks</td>\n",
       "      <td>Food and Drink</td>\n",
       "      <td>Restaurants</td>\n",
       "      <td>Coffee Shop</td>\n",
       "    </tr>\n",
       "    <tr>\n",
       "      <td>13</td>\n",
       "      <td>89.40</td>\n",
       "      <td>[Food and Drink, Restaurants]</td>\n",
       "      <td>2020-01-12</td>\n",
       "      <td>SparkFun</td>\n",
       "      <td>Food and Drink</td>\n",
       "      <td>Restaurants</td>\n",
       "      <td>None</td>\n",
       "    </tr>\n",
       "    <tr>\n",
       "      <td>14</td>\n",
       "      <td>-4.22</td>\n",
       "      <td>[Transfer, Credit]</td>\n",
       "      <td>2020-01-11</td>\n",
       "      <td>INTRST PYMNT</td>\n",
       "      <td>Transfer</td>\n",
       "      <td>Credit</td>\n",
       "      <td>None</td>\n",
       "    </tr>\n",
       "    <tr>\n",
       "      <td>15</td>\n",
       "      <td>500.00</td>\n",
       "      <td>[Travel, Airlines and Aviation Services]</td>\n",
       "      <td>2020-01-01</td>\n",
       "      <td>United Airlines</td>\n",
       "      <td>Travel</td>\n",
       "      <td>Airlines and Aviation Services</td>\n",
       "      <td>None</td>\n",
       "    </tr>\n",
       "  </tbody>\n",
       "</table>\n",
       "</div>"
      ],
      "text/plain": [
       "     amount                                    category       date  \\\n",
       "0      6.33                              [Travel, Taxi] 2020-01-29   \n",
       "1    500.00               [Food and Drink, Restaurants] 2020-01-26   \n",
       "2   2078.50                                   [Payment] 2020-01-25   \n",
       "3    500.00    [Food and Drink, Restaurants, Fast Food] 2020-01-25   \n",
       "4    500.00                     [Shops, Sporting Goods] 2020-01-25   \n",
       "5     25.00                      [Payment, Credit Card] 2020-01-16   \n",
       "6      5.40                              [Travel, Taxi] 2020-01-16   \n",
       "7   5850.00                           [Transfer, Debit] 2020-01-15   \n",
       "8   1000.00                         [Transfer, Deposit] 2020-01-15   \n",
       "9     78.50      [Recreation, Gyms and Fitness Centers] 2020-01-14   \n",
       "10  -500.00    [Travel, Airlines and Aviation Services] 2020-01-14   \n",
       "11    12.00    [Food and Drink, Restaurants, Fast Food] 2020-01-13   \n",
       "12     4.33  [Food and Drink, Restaurants, Coffee Shop] 2020-01-13   \n",
       "13    89.40               [Food and Drink, Restaurants] 2020-01-12   \n",
       "14    -4.22                          [Transfer, Credit] 2020-01-11   \n",
       "15   500.00    [Travel, Airlines and Aviation Services] 2020-01-01   \n",
       "\n",
       "                                     name   real category  \\\n",
       "0                                    Uber          Travel   \n",
       "1                              Tectra Inc  Food and Drink   \n",
       "2               AUTOMATIC PAYMENT - THANK         Payment   \n",
       "3                                     KFC  Food and Drink   \n",
       "4                    Madison Bicycle Shop           Shops   \n",
       "5            CREDIT CARD 3333 PAYMENT *//         Payment   \n",
       "6                                    Uber          Travel   \n",
       "7   ACH Electronic CreditGUSTO PAY 123456        Transfer   \n",
       "8                    CD DEPOSIT .INITIAL.        Transfer   \n",
       "9                     Touchstone Climbing      Recreation   \n",
       "10                        United Airlines          Travel   \n",
       "11                             McDonald's  Food and Drink   \n",
       "12                              Starbucks  Food and Drink   \n",
       "13                               SparkFun  Food and Drink   \n",
       "14                           INTRST PYMNT        Transfer   \n",
       "15                        United Airlines          Travel   \n",
       "\n",
       "                    other category  last column  \n",
       "0                             Taxi         None  \n",
       "1                      Restaurants         None  \n",
       "2                             None         None  \n",
       "3                      Restaurants    Fast Food  \n",
       "4                   Sporting Goods         None  \n",
       "5                      Credit Card         None  \n",
       "6                             Taxi         None  \n",
       "7                            Debit         None  \n",
       "8                          Deposit         None  \n",
       "9         Gyms and Fitness Centers         None  \n",
       "10  Airlines and Aviation Services         None  \n",
       "11                     Restaurants    Fast Food  \n",
       "12                     Restaurants  Coffee Shop  \n",
       "13                     Restaurants         None  \n",
       "14                          Credit         None  \n",
       "15  Airlines and Aviation Services         None  "
      ]
     },
     "execution_count": 37,
     "metadata": {},
     "output_type": "execute_result"
    }
   ],
   "source": [
    "# YOUR CODE HERE\n",
    "transaction_df = pd.DataFrame(last_90_day_transactions)\n",
    "transaction_df.drop(columns=[\"account_id\",\"account_owner\", \"authorized_date\",\n",
    "                              \"category_id\",\"iso_currency_code\",\"location\", \n",
    "                              \"payment_channel\",\"payment_meta\",\"pending\",\n",
    "                              'pending_transaction_id','transaction_id','transaction_type',\n",
    "                              'unofficial_currency_code'], inplace=True)\n",
    "transaction_df[\"date\"] = pd.to_datetime(transaction_df['date'])\n",
    "transaction_df[['real category','other category','last column']] = pd.DataFrame(transaction_df.category.values.tolist(), index=transaction_df.index)\n",
    "transaction_df.head(50)\n"
   ]
  },
  {
   "cell_type": "code",
   "execution_count": 42,
   "metadata": {},
   "outputs": [],
   "source": [
    "transaction_df.drop(columns=[\"category\",\"other category\", 'last column'],inplace=True)"
   ]
  },
  {
   "cell_type": "code",
   "execution_count": 43,
   "metadata": {},
   "outputs": [],
   "source": [
    "filtered_transaction_df = transaction_df.loc[transaction_df['amount'] > 0]"
   ]
  },
  {
   "cell_type": "code",
   "execution_count": 48,
   "metadata": {},
   "outputs": [
    {
     "data": {
      "text/html": [
       "<div>\n",
       "<style scoped>\n",
       "    .dataframe tbody tr th:only-of-type {\n",
       "        vertical-align: middle;\n",
       "    }\n",
       "\n",
       "    .dataframe tbody tr th {\n",
       "        vertical-align: top;\n",
       "    }\n",
       "\n",
       "    .dataframe thead th {\n",
       "        text-align: right;\n",
       "    }\n",
       "</style>\n",
       "<table border=\"1\" class=\"dataframe\">\n",
       "  <thead>\n",
       "    <tr style=\"text-align: right;\">\n",
       "      <th></th>\n",
       "      <th>amount</th>\n",
       "      <th>date</th>\n",
       "      <th>name</th>\n",
       "      <th>real category</th>\n",
       "    </tr>\n",
       "  </thead>\n",
       "  <tbody>\n",
       "    <tr>\n",
       "      <td>0</td>\n",
       "      <td>6.33</td>\n",
       "      <td>2020-01-29</td>\n",
       "      <td>Uber</td>\n",
       "      <td>Travel</td>\n",
       "    </tr>\n",
       "    <tr>\n",
       "      <td>1</td>\n",
       "      <td>500.00</td>\n",
       "      <td>2020-01-26</td>\n",
       "      <td>Tectra Inc</td>\n",
       "      <td>Food and Drink</td>\n",
       "    </tr>\n",
       "    <tr>\n",
       "      <td>2</td>\n",
       "      <td>2078.50</td>\n",
       "      <td>2020-01-25</td>\n",
       "      <td>AUTOMATIC PAYMENT - THANK</td>\n",
       "      <td>Payment</td>\n",
       "    </tr>\n",
       "    <tr>\n",
       "      <td>3</td>\n",
       "      <td>500.00</td>\n",
       "      <td>2020-01-25</td>\n",
       "      <td>KFC</td>\n",
       "      <td>Food and Drink</td>\n",
       "    </tr>\n",
       "    <tr>\n",
       "      <td>4</td>\n",
       "      <td>500.00</td>\n",
       "      <td>2020-01-25</td>\n",
       "      <td>Madison Bicycle Shop</td>\n",
       "      <td>Shops</td>\n",
       "    </tr>\n",
       "    <tr>\n",
       "      <td>5</td>\n",
       "      <td>25.00</td>\n",
       "      <td>2020-01-16</td>\n",
       "      <td>CREDIT CARD 3333 PAYMENT *//</td>\n",
       "      <td>Payment</td>\n",
       "    </tr>\n",
       "    <tr>\n",
       "      <td>6</td>\n",
       "      <td>5.40</td>\n",
       "      <td>2020-01-16</td>\n",
       "      <td>Uber</td>\n",
       "      <td>Travel</td>\n",
       "    </tr>\n",
       "    <tr>\n",
       "      <td>7</td>\n",
       "      <td>5850.00</td>\n",
       "      <td>2020-01-15</td>\n",
       "      <td>ACH Electronic CreditGUSTO PAY 123456</td>\n",
       "      <td>Transfer</td>\n",
       "    </tr>\n",
       "    <tr>\n",
       "      <td>8</td>\n",
       "      <td>1000.00</td>\n",
       "      <td>2020-01-15</td>\n",
       "      <td>CD DEPOSIT .INITIAL.</td>\n",
       "      <td>Transfer</td>\n",
       "    </tr>\n",
       "    <tr>\n",
       "      <td>9</td>\n",
       "      <td>78.50</td>\n",
       "      <td>2020-01-14</td>\n",
       "      <td>Touchstone Climbing</td>\n",
       "      <td>Recreation</td>\n",
       "    </tr>\n",
       "    <tr>\n",
       "      <td>11</td>\n",
       "      <td>12.00</td>\n",
       "      <td>2020-01-13</td>\n",
       "      <td>McDonald's</td>\n",
       "      <td>Food and Drink</td>\n",
       "    </tr>\n",
       "    <tr>\n",
       "      <td>12</td>\n",
       "      <td>4.33</td>\n",
       "      <td>2020-01-13</td>\n",
       "      <td>Starbucks</td>\n",
       "      <td>Food and Drink</td>\n",
       "    </tr>\n",
       "    <tr>\n",
       "      <td>13</td>\n",
       "      <td>89.40</td>\n",
       "      <td>2020-01-12</td>\n",
       "      <td>SparkFun</td>\n",
       "      <td>Food and Drink</td>\n",
       "    </tr>\n",
       "    <tr>\n",
       "      <td>15</td>\n",
       "      <td>500.00</td>\n",
       "      <td>2020-01-01</td>\n",
       "      <td>United Airlines</td>\n",
       "      <td>Travel</td>\n",
       "    </tr>\n",
       "  </tbody>\n",
       "</table>\n",
       "</div>"
      ],
      "text/plain": [
       "     amount       date                                   name   real category\n",
       "0      6.33 2020-01-29                                   Uber          Travel\n",
       "1    500.00 2020-01-26                             Tectra Inc  Food and Drink\n",
       "2   2078.50 2020-01-25              AUTOMATIC PAYMENT - THANK         Payment\n",
       "3    500.00 2020-01-25                                    KFC  Food and Drink\n",
       "4    500.00 2020-01-25                   Madison Bicycle Shop           Shops\n",
       "5     25.00 2020-01-16           CREDIT CARD 3333 PAYMENT *//         Payment\n",
       "6      5.40 2020-01-16                                   Uber          Travel\n",
       "7   5850.00 2020-01-15  ACH Electronic CreditGUSTO PAY 123456        Transfer\n",
       "8   1000.00 2020-01-15                   CD DEPOSIT .INITIAL.        Transfer\n",
       "9     78.50 2020-01-14                    Touchstone Climbing      Recreation\n",
       "11    12.00 2020-01-13                             McDonald's  Food and Drink\n",
       "12     4.33 2020-01-13                              Starbucks  Food and Drink\n",
       "13    89.40 2020-01-12                               SparkFun  Food and Drink\n",
       "15   500.00 2020-01-01                        United Airlines          Travel"
      ]
     },
     "execution_count": 48,
     "metadata": {},
     "output_type": "execute_result"
    }
   ],
   "source": [
    "filtered_transaction_df.head(50)"
   ]
  },
  {
   "cell_type": "code",
   "execution_count": 39,
   "metadata": {},
   "outputs": [
    {
     "data": {
      "text/plain": [
       "amount                  float64\n",
       "date             datetime64[ns]\n",
       "name                     object\n",
       "real category            object\n",
       "dtype: object"
      ]
     },
     "execution_count": 39,
     "metadata": {},
     "output_type": "execute_result"
    }
   ],
   "source": [
    "transaction_df.dtypes"
   ]
  },
  {
   "cell_type": "code",
   "execution_count": 50,
   "metadata": {},
   "outputs": [
    {
     "data": {
      "text/plain": [
       "<matplotlib.axes._subplots.AxesSubplot at 0x1cdb42ca448>"
      ]
     },
     "execution_count": 50,
     "metadata": {},
     "output_type": "execute_result"
    },
    {
     "data": {
      "image/png": "[encoded data removed]",
      "text/plain": [
       "<Figure size 432x288 with 1 Axes>"
      ]
     },
     "metadata": {},
     "output_type": "display_data"
    }
   ],
   "source": [
    "filtered_transaction_df.plot.pie(y=\"amount\")"
   ]
  },
  {
   "cell_type": "code",
   "execution_count": null,
   "metadata": {},
   "outputs": [],
   "source": [
    "### 4. Convert the data types to the appropriate types \n",
    "\n",
    "(i.e. datetimeindex for the date and float for the amount)"
   ]
  },
  {
   "cell_type": "code",
   "execution_count": 13,
   "metadata": {},
   "outputs": [],
   "source": [
    "# YOUR CODE HERE"
   ]
  },
  {
   "cell_type": "markdown",
   "metadata": {},
   "source": [
    "---"
   ]
  },
  {
   "cell_type": "markdown",
   "metadata": {},
   "source": [
    "# Income Analysis with Plaid\n",
    "\n",
    "In this section, you will use the Plaid Sandbox to complete the following:\n",
    "1. Determine the previous year's gross income and print the results\n",
    "2. Determine the current monthly income and print the results\n",
    "3. Determine the projected yearly income and print the results"
   ]
  },
  {
   "cell_type": "code",
   "execution_count": 14,
   "metadata": {},
   "outputs": [],
   "source": [
    "# YOUR CODE HERE"
   ]
  },
  {
   "cell_type": "markdown",
   "metadata": {},
   "source": [
    "---"
   ]
  },
  {
   "cell_type": "markdown",
   "metadata": {},
   "source": [
    "# Budget Analysis\n",
    "In this section, you will use the transactions DataFrame to analyze the customer's budget\n",
    "\n",
    "1. Calculate the total spending per category and print the results (Hint: groupby or count transactions per category)\n",
    "2. Generate a bar chart with the number of transactions for each category \n",
    "3. Calculate the expenses per month\n",
    "4. Plot the total expenses per month"
   ]
  },
  {
   "cell_type": "markdown",
   "metadata": {},
   "source": [
    "### Calculate the expenses per category"
   ]
  },
  {
   "cell_type": "code",
   "execution_count": 15,
   "metadata": {},
   "outputs": [],
   "source": [
    "# YOUR CODE HERE"
   ]
  },
  {
   "cell_type": "markdown",
   "metadata": {},
   "source": [
    "### Calculate the expenses per month"
   ]
  },
  {
   "cell_type": "code",
   "execution_count": 16,
   "metadata": {},
   "outputs": [],
   "source": [
    "# YOUR CODE HERE"
   ]
  }
 ],
 "metadata": {
  "kernel_info": {
   "name": "dev"
  },
  "kernelspec": {
   "display_name": "Python 3",
   "language": "python",
   "name": "python3"
  },
  "language_info": {
   "codemirror_mode": {
    "name": "ipython",
    "version": 3
   },
   "file_extension": ".py",
   "mimetype": "text/x-python",
   "name": "python",
   "nbconvert_exporter": "python",
   "pygments_lexer": "ipython3",
   "version": "3.7.4"
  },
  "nteract": {
   "version": "0.12.3"
  }
 },
 "nbformat": 4,
 "nbformat_minor": 4
}
