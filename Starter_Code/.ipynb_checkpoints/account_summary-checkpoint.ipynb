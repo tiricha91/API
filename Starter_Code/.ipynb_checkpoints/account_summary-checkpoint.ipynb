{
 "cells": [
  {
   "cell_type": "code",
   "execution_count": 1,
   "metadata": {},
   "outputs": [],
   "source": [
    "import os\n",
    "import plaid\n",
    "import requests\n",
    "import datetime\n",
    "import json\n",
    "import pandas as pd\n",
    "%matplotlib inline"
   ]
  },
  {
   "cell_type": "code",
   "execution_count": 2,
   "metadata": {},
   "outputs": [],
   "source": [
    "def pretty_print_response(response):\n",
    "  print(json.dumps(response, indent=4, sort_keys=True))"
   ]
  },
  {
   "cell_type": "code",
   "execution_count": 3,
   "metadata": {},
   "outputs": [],
   "source": [
    "PLAID_CLIENT_ID = os.getenv('PLAID_CLIENT_ID')\n",
    "PLAID_SECRET = os.getenv('PLAID_SECRET')\n",
    "PLAID_PUBLIC_KEY = os.getenv('PLAID_PUBLIC_KEY')\n",
    "PLAID_ENV = os.getenv('PLAID_ENV', 'sandbox')\n",
    "PLAID_PRODUCTS = os.getenv('PLAID_PRODUCTS', 'transactions')\n"
   ]
  },
  {
   "cell_type": "markdown",
   "metadata": {},
   "source": [
    "### 1. Create a client to connect to plaid"
   ]
  },
  {
   "cell_type": "code",
   "execution_count": 4,
   "metadata": {},
   "outputs": [],
   "source": [
    "INSTITUTION_ID = \"ins_109508\""
   ]
  },
  {
   "cell_type": "code",
   "execution_count": 5,
   "metadata": {},
   "outputs": [],
   "source": [
    "client = plaid.Client(client_id=PLAID_CLIENT_ID, secret=PLAID_SECRET, public_key=PLAID_PUBLIC_KEY, environment='sandbox')"
   ]
  },
  {
   "cell_type": "code",
   "execution_count": 6,
   "metadata": {},
   "outputs": [
    {
     "data": {
      "text/plain": [
       "{'institutions': [{'country_codes': ['CA'],\n",
       "   'credentials': [{'label': 'Login ID', 'name': 'username', 'type': 'text'},\n",
       "    {'label': 'Access Code (PAC)', 'name': 'password', 'type': 'password'}],\n",
       "   'has_mfa': True,\n",
       "   'input_spec': 'fixed',\n",
       "   'institution_id': 'ins_118841',\n",
       "   'mfa': ['code', 'list', 'questions', 'selections'],\n",
       "   'mfa_code_type': 'numeric',\n",
       "   'name': 'Access Credit Union - Online Banking',\n",
       "   'products': ['assets', 'balance', 'transactions', 'income', 'identity'],\n",
       "   'routing_numbers': []},\n",
       "  {'country_codes': ['GB'],\n",
       "   'credentials': [{'label': 'Username', 'name': 'username', 'type': 'text'},\n",
       "    {'label': 'Password', 'name': 'password', 'type': 'password'}],\n",
       "   'has_mfa': True,\n",
       "   'input_spec': 'fixed',\n",
       "   'institution_id': 'ins_119371',\n",
       "   'mfa': ['code', 'list', 'questions', 'selections'],\n",
       "   'mfa_code_type': 'numeric',\n",
       "   'name': 'Aegon (Online Services)',\n",
       "   'products': ['investments'],\n",
       "   'routing_numbers': []}],\n",
       " 'request_id': 'qOJIqq3Y4u6l3Vf',\n",
       " 'total': 11428}"
      ]
     },
     "execution_count": 6,
     "metadata": {},
     "output_type": "execute_result"
    }
   ],
   "source": [
    "client.Institutions.get(2)"
   ]
  },
  {
   "cell_type": "markdown",
   "metadata": {},
   "source": [
    "### 2. Generate a public token"
   ]
  },
  {
   "cell_type": "code",
   "execution_count": 7,
   "metadata": {},
   "outputs": [],
   "source": [
    "# YOUR CODE HERE\n",
    "create_tkn_response = client.Sandbox.public_token.create(INSTITUTION_ID, ['transactions'])"
   ]
  },
  {
   "cell_type": "markdown",
   "metadata": {},
   "source": [
    "### 3. Exchange the public token for an access token"
   ]
  },
  {
   "cell_type": "code",
   "execution_count": 8,
   "metadata": {},
   "outputs": [],
   "source": [
    "# YOUR CODE HERE\n",
    "exchange_response = client.Item.public_token.exchange(create_tkn_response['public_token'])\n",
    "access_token = exchange_response['access_token']"
   ]
  },
  {
   "cell_type": "markdown",
   "metadata": {},
   "source": [
    "### 4. Fetch Accounts"
   ]
  },
  {
   "cell_type": "code",
   "execution_count": 9,
   "metadata": {},
   "outputs": [
    {
     "data": {
      "text/plain": [
       "{'accounts': [{'account_id': 'l3MbD4Zl6miv6z5orB5MIK9ANzXK5pTZ416qD',\n",
       "   'balances': {'available': 100,\n",
       "    'current': 110,\n",
       "    'iso_currency_code': 'USD',\n",
       "    'limit': None,\n",
       "    'unofficial_currency_code': None},\n",
       "   'mask': '0000',\n",
       "   'name': 'Plaid Checking',\n",
       "   'official_name': 'Plaid Gold Standard 0% Interest Checking',\n",
       "   'subtype': 'checking',\n",
       "   'type': 'depository'},\n",
       "  {'account_id': 'qkgKDeRBvJSdBQqkpZqgSwRo5v4wzysdE8Bjp',\n",
       "   'balances': {'available': 200,\n",
       "    'current': 210,\n",
       "    'iso_currency_code': 'USD',\n",
       "    'limit': None,\n",
       "    'unofficial_currency_code': None},\n",
       "   'mask': '1111',\n",
       "   'name': 'Plaid Saving',\n",
       "   'official_name': 'Plaid Silver Standard 0.1% Interest Saving',\n",
       "   'subtype': 'savings',\n",
       "   'type': 'depository'},\n",
       "  {'account_id': 'KX8bdBnEJAcMXPnJwEnrTwJ7ElKw8vsVygr9w',\n",
       "   'balances': {'available': None,\n",
       "    'current': 1000,\n",
       "    'iso_currency_code': 'USD',\n",
       "    'limit': None,\n",
       "    'unofficial_currency_code': None},\n",
       "   'mask': '2222',\n",
       "   'name': 'Plaid CD',\n",
       "   'official_name': 'Plaid Bronze Standard 0.2% Interest CD',\n",
       "   'subtype': 'cd',\n",
       "   'type': 'depository'},\n",
       "  {'account_id': 'rP8rDQJ3v7CaklqvJeq8INk1XWmNeLClQLNPZ',\n",
       "   'balances': {'available': None,\n",
       "    'current': 410,\n",
       "    'iso_currency_code': 'USD',\n",
       "    'limit': 2000,\n",
       "    'unofficial_currency_code': None},\n",
       "   'mask': '3333',\n",
       "   'name': 'Plaid Credit Card',\n",
       "   'official_name': 'Plaid Diamond 12.5% APR Interest Credit Card',\n",
       "   'subtype': 'credit card',\n",
       "   'type': 'credit'},\n",
       "  {'account_id': 'zLyNr8m7vlfZaRo3lqoBt3wrKZB35NHoVD67R',\n",
       "   'balances': {'available': 43200,\n",
       "    'current': 43200,\n",
       "    'iso_currency_code': 'USD',\n",
       "    'limit': None,\n",
       "    'unofficial_currency_code': None},\n",
       "   'mask': '4444',\n",
       "   'name': 'Plaid Money Market',\n",
       "   'official_name': 'Plaid Platinum Standard 1.85% Interest Money Market',\n",
       "   'subtype': 'money market',\n",
       "   'type': 'depository'},\n",
       "  {'account_id': 'BXepZ8RQJLcaolQ38BQ9IZnvgaqZJrtwBqVWr',\n",
       "   'balances': {'available': None,\n",
       "    'current': 320.76,\n",
       "    'iso_currency_code': 'USD',\n",
       "    'limit': None,\n",
       "    'unofficial_currency_code': None},\n",
       "   'mask': '5555',\n",
       "   'name': 'Plaid IRA',\n",
       "   'official_name': None,\n",
       "   'subtype': 'ira',\n",
       "   'type': 'investment'},\n",
       "  {'account_id': '35l3baKqMnSxgyZvbBZ5hNZekn7N4KCqAG5rB',\n",
       "   'balances': {'available': None,\n",
       "    'current': 23631.9805,\n",
       "    'iso_currency_code': 'USD',\n",
       "    'limit': None,\n",
       "    'unofficial_currency_code': None},\n",
       "   'mask': '6666',\n",
       "   'name': 'Plaid 401k',\n",
       "   'official_name': None,\n",
       "   'subtype': '401k',\n",
       "   'type': 'investment'},\n",
       "  {'account_id': 'xMbaqorPvDHer3Q1WwQbIraPZXAr3jFn1mL7R',\n",
       "   'balances': {'available': None,\n",
       "    'current': 65262,\n",
       "    'iso_currency_code': 'USD',\n",
       "    'limit': None,\n",
       "    'unofficial_currency_code': None},\n",
       "   'mask': '7777',\n",
       "   'name': 'Plaid Student Loan',\n",
       "   'official_name': None,\n",
       "   'subtype': 'student',\n",
       "   'type': 'loan'}],\n",
       " 'item': {'available_products': ['assets',\n",
       "   'auth',\n",
       "   'balance',\n",
       "   'credit_details',\n",
       "   'identity',\n",
       "   'income',\n",
       "   'investments',\n",
       "   'liabilities'],\n",
       "  'billed_products': ['transactions'],\n",
       "  'consent_expiration_time': None,\n",
       "  'error': None,\n",
       "  'institution_id': 'ins_109508',\n",
       "  'item_id': '4mqxb4rK1nTPVMJwAjJ1cLNJdkn17oudoygJ6',\n",
       "  'webhook': ''},\n",
       " 'request_id': 'SckHCfBCF4BAAd7'}"
      ]
     },
     "execution_count": 9,
     "metadata": {},
     "output_type": "execute_result"
    }
   ],
   "source": [
    "# YOUR CODE HERE\n",
    "client.Accounts.get(access_token)"
   ]
  },
  {
   "cell_type": "markdown",
   "metadata": {},
   "source": [
    "---"
   ]
  },
  {
   "cell_type": "markdown",
   "metadata": {},
   "source": [
    "### 1. Fetch the Transactions for the last 90 days"
   ]
  },
  {
   "cell_type": "code",
   "execution_count": 26,
   "metadata": {},
   "outputs": [
    {
     "name": "stdout",
     "output_type": "stream",
     "text": [
      "[\n",
      "    {\n",
      "        \"account_id\": \"rP8rDQJ3v7CaklqvJeq8INk1XWmNeLClQLNPZ\",\n",
      "        \"account_owner\": null,\n",
      "        \"amount\": 500,\n",
      "        \"authorized_date\": null,\n",
      "        \"category\": [\n",
      "            \"Travel\",\n",
      "            \"Airlines and Aviation Services\"\n",
      "        ],\n",
      "        \"category_id\": \"22001000\",\n",
      "        \"date\": \"2020-01-31\",\n",
      "        \"iso_currency_code\": \"USD\",\n",
      "        \"location\": {\n",
      "            \"address\": null,\n",
      "            \"city\": null,\n",
      "            \"country\": null,\n",
      "            \"lat\": null,\n",
      "            \"lon\": null,\n",
      "            \"postal_code\": null,\n",
      "            \"region\": null,\n",
      "            \"store_number\": null\n",
      "        },\n",
      "        \"name\": \"United Airlines\",\n",
      "        \"payment_channel\": \"in store\",\n",
      "        \"payment_meta\": {\n",
      "            \"by_order_of\": null,\n",
      "            \"payee\": null,\n",
      "            \"payer\": null,\n",
      "            \"payment_method\": null,\n",
      "            \"payment_processor\": null,\n",
      "            \"ppd_id\": null,\n",
      "            \"reason\": null,\n",
      "            \"reference_number\": null\n",
      "        },\n",
      "        \"pending\": false,\n",
      "        \"pending_transaction_id\": null,\n",
      "        \"transaction_id\": \"NXklNdRGJ8cpQNgARZg9tRA1KoXM6LtW43lXX\",\n",
      "        \"transaction_type\": \"special\",\n",
      "        \"unofficial_currency_code\": null\n",
      "    },\n",
      "    {\n",
      "        \"account_id\": \"l3MbD4Zl6miv6z5orB5MIK9ANzXK5pTZ416qD\",\n",
      "        \"account_owner\": null,\n",
      "        \"amount\": 6.33,\n",
      "        \"authorized_date\": null,\n",
      "        \"category\": [\n",
      "            \"Travel\",\n",
      "            \"Taxi\"\n",
      "        ],\n",
      "        \"category_id\": \"22016000\",\n",
      "        \"date\": \"2020-01-29\",\n",
      "        \"iso_currency_code\": \"USD\",\n",
      "        \"location\": {\n",
      "            \"address\": null,\n",
      "            \"city\": null,\n",
      "            \"country\": null,\n",
      "            \"lat\": null,\n",
      "            \"lon\": null,\n",
      "            \"postal_code\": null,\n",
      "            \"region\": null,\n",
      "            \"store_number\": null\n",
      "        },\n",
      "        \"name\": \"Uber\",\n",
      "        \"payment_channel\": \"in store\",\n",
      "        \"payment_meta\": {\n",
      "            \"by_order_of\": null,\n",
      "            \"payee\": null,\n",
      "            \"payer\": null,\n",
      "            \"payment_method\": null,\n",
      "            \"payment_processor\": null,\n",
      "            \"ppd_id\": null,\n",
      "            \"reason\": null,\n",
      "            \"reference_number\": null\n",
      "        },\n",
      "        \"pending\": false,\n",
      "        \"pending_transaction_id\": null,\n",
      "        \"transaction_id\": \"KX8bdBnEJAcMXPnJwEnrTwJBm4EaWGFVxylE8\",\n",
      "        \"transaction_type\": \"special\",\n",
      "        \"unofficial_currency_code\": null\n",
      "    },\n",
      "    {\n",
      "        \"account_id\": \"rP8rDQJ3v7CaklqvJeq8INk1XWmNeLClQLNPZ\",\n",
      "        \"account_owner\": null,\n",
      "        \"amount\": 500,\n",
      "        \"authorized_date\": null,\n",
      "        \"category\": [\n",
      "            \"Food and Drink\",\n",
      "            \"Restaurants\"\n",
      "        ],\n",
      "        \"category_id\": \"13005000\",\n",
      "        \"date\": \"2020-01-26\",\n",
      "        \"iso_currency_code\": \"USD\",\n",
      "        \"location\": {\n",
      "            \"address\": null,\n",
      "            \"city\": null,\n",
      "            \"country\": null,\n",
      "            \"lat\": null,\n",
      "            \"lon\": null,\n",
      "            \"postal_code\": null,\n",
      "            \"region\": null,\n",
      "            \"store_number\": null\n",
      "        },\n",
      "        \"name\": \"Tectra Inc\",\n",
      "        \"payment_channel\": \"in store\",\n",
      "        \"payment_meta\": {\n",
      "            \"by_order_of\": null,\n",
      "            \"payee\": null,\n",
      "            \"payer\": null,\n",
      "            \"payment_method\": null,\n",
      "            \"payment_processor\": null,\n",
      "            \"ppd_id\": null,\n",
      "            \"reason\": null,\n",
      "            \"reference_number\": null\n",
      "        },\n",
      "        \"pending\": false,\n",
      "        \"pending_transaction_id\": null,\n",
      "        \"transaction_id\": \"PVnKW4bqJkFg4NrqQvr6HQoyqbXBVWS7P1xXQ\",\n",
      "        \"transaction_type\": \"place\",\n",
      "        \"unofficial_currency_code\": null\n",
      "    }\n",
      "]\n"
     ]
    }
   ],
   "source": [
    "# YOUR CODE HERE\n",
    "start_date = '{:%Y-%m-%d}'.format(datetime.datetime.now() + datetime.timedelta(-150))\n",
    "end_date = '{:%Y-%m-%d}'.format(datetime.datetime.now())\n",
    "transaction_response = client.Transactions.get(access_token, start_date, end_date)\n",
    "last_90_day_transactions = transaction_response['transactions']\n",
    "\n",
    "# to print first 3 items of the last_90_day_transactions\n",
    "print(json.dumps(last_90_day_transactions[0:3], indent=4, sort_keys=True))"
   ]
  },
  {
   "cell_type": "markdown",
   "metadata": {},
   "source": [
    "### 2. Print the categories for each transaction"
   ]
  },
  {
   "cell_type": "code",
   "execution_count": 27,
   "metadata": {},
   "outputs": [
    {
     "name": "stdout",
     "output_type": "stream",
     "text": [
      "[['Travel', 'Airlines and Aviation Services'], ['Travel', 'Taxi']]\n"
     ]
    }
   ],
   "source": [
    "# YOUR CODE HERE\n",
    "# we needed to find how to work with the dictionary that was returned from the API rather than the JSON print out, which returns a string. \n",
    "# thus, we use the transaction_response variable directly\n",
    "# to iterate through transaction_response dictionary using for-loop list comprehension \n",
    "category_values = [i['category'] for i in last_90_day_transactions]\n",
    "first_two = category_values[:2]\n",
    "print(first_two)"
   ]
  },
  {
   "cell_type": "markdown",
   "metadata": {},
   "source": [
    "### 3. Create a new DataFrame using the following fields from the JSON transaction data: date, name, amount, category. \n",
    "\n",
    "(For categories with more than one label, just use the first category label in the list)"
   ]
  },
  {
   "cell_type": "code",
   "execution_count": 28,
   "metadata": {},
   "outputs": [
    {
     "data": {
      "text/html": [
       "<div>\n",
       "<style scoped>\n",
       "    .dataframe tbody tr th:only-of-type {\n",
       "        vertical-align: middle;\n",
       "    }\n",
       "\n",
       "    .dataframe tbody tr th {\n",
       "        vertical-align: top;\n",
       "    }\n",
       "\n",
       "    .dataframe thead th {\n",
       "        text-align: right;\n",
       "    }\n",
       "</style>\n",
       "<table border=\"1\" class=\"dataframe\">\n",
       "  <thead>\n",
       "    <tr style=\"text-align: right;\">\n",
       "      <th></th>\n",
       "      <th>amount</th>\n",
       "      <th>category</th>\n",
       "      <th>date</th>\n",
       "      <th>name</th>\n",
       "    </tr>\n",
       "  </thead>\n",
       "  <tbody>\n",
       "    <tr>\n",
       "      <td>0</td>\n",
       "      <td>500.00</td>\n",
       "      <td>[Travel, Airlines and Aviation Services]</td>\n",
       "      <td>2020-01-31</td>\n",
       "      <td>United Airlines</td>\n",
       "    </tr>\n",
       "    <tr>\n",
       "      <td>1</td>\n",
       "      <td>6.33</td>\n",
       "      <td>[Travel, Taxi]</td>\n",
       "      <td>2020-01-29</td>\n",
       "      <td>Uber</td>\n",
       "    </tr>\n",
       "    <tr>\n",
       "      <td>2</td>\n",
       "      <td>500.00</td>\n",
       "      <td>[Food and Drink, Restaurants]</td>\n",
       "      <td>2020-01-26</td>\n",
       "      <td>Tectra Inc</td>\n",
       "    </tr>\n",
       "    <tr>\n",
       "      <td>3</td>\n",
       "      <td>2078.50</td>\n",
       "      <td>[Payment]</td>\n",
       "      <td>2020-01-25</td>\n",
       "      <td>AUTOMATIC PAYMENT - THANK</td>\n",
       "    </tr>\n",
       "    <tr>\n",
       "      <td>4</td>\n",
       "      <td>500.00</td>\n",
       "      <td>[Food and Drink, Restaurants, Fast Food]</td>\n",
       "      <td>2020-01-25</td>\n",
       "      <td>KFC</td>\n",
       "    </tr>\n",
       "    <tr>\n",
       "      <td>...</td>\n",
       "      <td>...</td>\n",
       "      <td>...</td>\n",
       "      <td>...</td>\n",
       "      <td>...</td>\n",
       "    </tr>\n",
       "    <tr>\n",
       "      <td>75</td>\n",
       "      <td>-500.00</td>\n",
       "      <td>[Travel, Airlines and Aviation Services]</td>\n",
       "      <td>2019-09-16</td>\n",
       "      <td>United Airlines</td>\n",
       "    </tr>\n",
       "    <tr>\n",
       "      <td>76</td>\n",
       "      <td>12.00</td>\n",
       "      <td>[Food and Drink, Restaurants, Fast Food]</td>\n",
       "      <td>2019-09-15</td>\n",
       "      <td>McDonald's</td>\n",
       "    </tr>\n",
       "    <tr>\n",
       "      <td>77</td>\n",
       "      <td>4.33</td>\n",
       "      <td>[Food and Drink, Restaurants, Coffee Shop]</td>\n",
       "      <td>2019-09-15</td>\n",
       "      <td>Starbucks</td>\n",
       "    </tr>\n",
       "    <tr>\n",
       "      <td>78</td>\n",
       "      <td>89.40</td>\n",
       "      <td>[Food and Drink, Restaurants]</td>\n",
       "      <td>2019-09-14</td>\n",
       "      <td>SparkFun</td>\n",
       "    </tr>\n",
       "    <tr>\n",
       "      <td>79</td>\n",
       "      <td>-4.22</td>\n",
       "      <td>[Transfer, Credit]</td>\n",
       "      <td>2019-09-13</td>\n",
       "      <td>INTRST PYMNT</td>\n",
       "    </tr>\n",
       "  </tbody>\n",
       "</table>\n",
       "<p>80 rows × 4 columns</p>\n",
       "</div>"
      ],
      "text/plain": [
       "     amount                                    category       date  \\\n",
       "0    500.00    [Travel, Airlines and Aviation Services] 2020-01-31   \n",
       "1      6.33                              [Travel, Taxi] 2020-01-29   \n",
       "2    500.00               [Food and Drink, Restaurants] 2020-01-26   \n",
       "3   2078.50                                   [Payment] 2020-01-25   \n",
       "4    500.00    [Food and Drink, Restaurants, Fast Food] 2020-01-25   \n",
       "..      ...                                         ...        ...   \n",
       "75  -500.00    [Travel, Airlines and Aviation Services] 2019-09-16   \n",
       "76    12.00    [Food and Drink, Restaurants, Fast Food] 2019-09-15   \n",
       "77     4.33  [Food and Drink, Restaurants, Coffee Shop] 2019-09-15   \n",
       "78    89.40               [Food and Drink, Restaurants] 2019-09-14   \n",
       "79    -4.22                          [Transfer, Credit] 2019-09-13   \n",
       "\n",
       "                         name  \n",
       "0             United Airlines  \n",
       "1                        Uber  \n",
       "2                  Tectra Inc  \n",
       "3   AUTOMATIC PAYMENT - THANK  \n",
       "4                         KFC  \n",
       "..                        ...  \n",
       "75            United Airlines  \n",
       "76                 McDonald's  \n",
       "77                  Starbucks  \n",
       "78                   SparkFun  \n",
       "79               INTRST PYMNT  \n",
       "\n",
       "[80 rows x 4 columns]"
      ]
     },
     "execution_count": 28,
     "metadata": {},
     "output_type": "execute_result"
    }
   ],
   "source": [
    "# YOUR CODE HERE\n",
    "transaction_df = pd.DataFrame(last_90_day_transactions)\n",
    "transaction_df.drop(columns=[\"account_id\",\"account_owner\", \"authorized_date\",\n",
    "                              \"category_id\",\"iso_currency_code\",\"location\", \n",
    "                              \"payment_channel\",\"payment_meta\",\"pending\",\n",
    "                              'pending_transaction_id','transaction_id','transaction_type',\n",
    "                              'unofficial_currency_code'], inplace=True)\n",
    "transaction_df[\"date\"] = pd.to_datetime(transaction_df['date'])\n",
    "transaction_df.head(100)\n"
   ]
  },
  {
   "cell_type": "code",
   "execution_count": 29,
   "metadata": {},
   "outputs": [],
   "source": [
    "#separates category list so that first category in list is the main category\n",
    "transaction_df[['real category','other category','last column']] = pd.DataFrame(transaction_df.category.values.tolist(), index=transaction_df.index)\n"
   ]
  },
  {
   "cell_type": "code",
   "execution_count": 30,
   "metadata": {},
   "outputs": [],
   "source": [
    "\n",
    "transaction_df.drop(columns=[\"category\",\"other category\", 'last column'],inplace=True)"
   ]
  },
  {
   "cell_type": "code",
   "execution_count": 31,
   "metadata": {},
   "outputs": [],
   "source": [
    "#removes debit transactions\n",
    "filtered_transaction_df = transaction_df.loc[transaction_df['amount'] > 0]"
   ]
  },
  {
   "cell_type": "code",
   "execution_count": 32,
   "metadata": {},
   "outputs": [
    {
     "data": {
      "text/html": [
       "<div>\n",
       "<style scoped>\n",
       "    .dataframe tbody tr th:only-of-type {\n",
       "        vertical-align: middle;\n",
       "    }\n",
       "\n",
       "    .dataframe tbody tr th {\n",
       "        vertical-align: top;\n",
       "    }\n",
       "\n",
       "    .dataframe thead th {\n",
       "        text-align: right;\n",
       "    }\n",
       "</style>\n",
       "<table border=\"1\" class=\"dataframe\">\n",
       "  <thead>\n",
       "    <tr style=\"text-align: right;\">\n",
       "      <th></th>\n",
       "      <th>amount</th>\n",
       "      <th>date</th>\n",
       "      <th>name</th>\n",
       "      <th>real category</th>\n",
       "    </tr>\n",
       "  </thead>\n",
       "  <tbody>\n",
       "    <tr>\n",
       "      <td>0</td>\n",
       "      <td>500.00</td>\n",
       "      <td>2020-01-31</td>\n",
       "      <td>United Airlines</td>\n",
       "      <td>Travel</td>\n",
       "    </tr>\n",
       "    <tr>\n",
       "      <td>1</td>\n",
       "      <td>6.33</td>\n",
       "      <td>2020-01-29</td>\n",
       "      <td>Uber</td>\n",
       "      <td>Travel</td>\n",
       "    </tr>\n",
       "    <tr>\n",
       "      <td>2</td>\n",
       "      <td>500.00</td>\n",
       "      <td>2020-01-26</td>\n",
       "      <td>Tectra Inc</td>\n",
       "      <td>Food and Drink</td>\n",
       "    </tr>\n",
       "    <tr>\n",
       "      <td>3</td>\n",
       "      <td>2078.50</td>\n",
       "      <td>2020-01-25</td>\n",
       "      <td>AUTOMATIC PAYMENT - THANK</td>\n",
       "      <td>Payment</td>\n",
       "    </tr>\n",
       "    <tr>\n",
       "      <td>4</td>\n",
       "      <td>500.00</td>\n",
       "      <td>2020-01-25</td>\n",
       "      <td>KFC</td>\n",
       "      <td>Food and Drink</td>\n",
       "    </tr>\n",
       "    <tr>\n",
       "      <td>5</td>\n",
       "      <td>500.00</td>\n",
       "      <td>2020-01-25</td>\n",
       "      <td>Madison Bicycle Shop</td>\n",
       "      <td>Shops</td>\n",
       "    </tr>\n",
       "    <tr>\n",
       "      <td>6</td>\n",
       "      <td>25.00</td>\n",
       "      <td>2020-01-16</td>\n",
       "      <td>CREDIT CARD 3333 PAYMENT *//</td>\n",
       "      <td>Payment</td>\n",
       "    </tr>\n",
       "    <tr>\n",
       "      <td>7</td>\n",
       "      <td>5.40</td>\n",
       "      <td>2020-01-16</td>\n",
       "      <td>Uber</td>\n",
       "      <td>Travel</td>\n",
       "    </tr>\n",
       "    <tr>\n",
       "      <td>8</td>\n",
       "      <td>5850.00</td>\n",
       "      <td>2020-01-15</td>\n",
       "      <td>ACH Electronic CreditGUSTO PAY 123456</td>\n",
       "      <td>Transfer</td>\n",
       "    </tr>\n",
       "    <tr>\n",
       "      <td>9</td>\n",
       "      <td>1000.00</td>\n",
       "      <td>2020-01-15</td>\n",
       "      <td>CD DEPOSIT .INITIAL.</td>\n",
       "      <td>Transfer</td>\n",
       "    </tr>\n",
       "    <tr>\n",
       "      <td>10</td>\n",
       "      <td>78.50</td>\n",
       "      <td>2020-01-14</td>\n",
       "      <td>Touchstone Climbing</td>\n",
       "      <td>Recreation</td>\n",
       "    </tr>\n",
       "    <tr>\n",
       "      <td>12</td>\n",
       "      <td>12.00</td>\n",
       "      <td>2020-01-13</td>\n",
       "      <td>McDonald's</td>\n",
       "      <td>Food and Drink</td>\n",
       "    </tr>\n",
       "    <tr>\n",
       "      <td>13</td>\n",
       "      <td>4.33</td>\n",
       "      <td>2020-01-13</td>\n",
       "      <td>Starbucks</td>\n",
       "      <td>Food and Drink</td>\n",
       "    </tr>\n",
       "    <tr>\n",
       "      <td>14</td>\n",
       "      <td>89.40</td>\n",
       "      <td>2020-01-12</td>\n",
       "      <td>SparkFun</td>\n",
       "      <td>Food and Drink</td>\n",
       "    </tr>\n",
       "    <tr>\n",
       "      <td>16</td>\n",
       "      <td>500.00</td>\n",
       "      <td>2020-01-01</td>\n",
       "      <td>United Airlines</td>\n",
       "      <td>Travel</td>\n",
       "    </tr>\n",
       "    <tr>\n",
       "      <td>17</td>\n",
       "      <td>6.33</td>\n",
       "      <td>2019-12-30</td>\n",
       "      <td>Uber</td>\n",
       "      <td>Travel</td>\n",
       "    </tr>\n",
       "    <tr>\n",
       "      <td>18</td>\n",
       "      <td>500.00</td>\n",
       "      <td>2019-12-27</td>\n",
       "      <td>Tectra Inc</td>\n",
       "      <td>Food and Drink</td>\n",
       "    </tr>\n",
       "    <tr>\n",
       "      <td>19</td>\n",
       "      <td>2078.50</td>\n",
       "      <td>2019-12-26</td>\n",
       "      <td>AUTOMATIC PAYMENT - THANK</td>\n",
       "      <td>Payment</td>\n",
       "    </tr>\n",
       "    <tr>\n",
       "      <td>20</td>\n",
       "      <td>500.00</td>\n",
       "      <td>2019-12-26</td>\n",
       "      <td>KFC</td>\n",
       "      <td>Food and Drink</td>\n",
       "    </tr>\n",
       "    <tr>\n",
       "      <td>21</td>\n",
       "      <td>500.00</td>\n",
       "      <td>2019-12-26</td>\n",
       "      <td>Madison Bicycle Shop</td>\n",
       "      <td>Shops</td>\n",
       "    </tr>\n",
       "    <tr>\n",
       "      <td>22</td>\n",
       "      <td>25.00</td>\n",
       "      <td>2019-12-17</td>\n",
       "      <td>CREDIT CARD 3333 PAYMENT *//</td>\n",
       "      <td>Payment</td>\n",
       "    </tr>\n",
       "    <tr>\n",
       "      <td>23</td>\n",
       "      <td>5.40</td>\n",
       "      <td>2019-12-17</td>\n",
       "      <td>Uber</td>\n",
       "      <td>Travel</td>\n",
       "    </tr>\n",
       "    <tr>\n",
       "      <td>24</td>\n",
       "      <td>5850.00</td>\n",
       "      <td>2019-12-16</td>\n",
       "      <td>ACH Electronic CreditGUSTO PAY 123456</td>\n",
       "      <td>Transfer</td>\n",
       "    </tr>\n",
       "    <tr>\n",
       "      <td>25</td>\n",
       "      <td>1000.00</td>\n",
       "      <td>2019-12-16</td>\n",
       "      <td>CD DEPOSIT .INITIAL.</td>\n",
       "      <td>Transfer</td>\n",
       "    </tr>\n",
       "    <tr>\n",
       "      <td>26</td>\n",
       "      <td>78.50</td>\n",
       "      <td>2019-12-15</td>\n",
       "      <td>Touchstone Climbing</td>\n",
       "      <td>Recreation</td>\n",
       "    </tr>\n",
       "    <tr>\n",
       "      <td>28</td>\n",
       "      <td>12.00</td>\n",
       "      <td>2019-12-14</td>\n",
       "      <td>McDonald's</td>\n",
       "      <td>Food and Drink</td>\n",
       "    </tr>\n",
       "    <tr>\n",
       "      <td>29</td>\n",
       "      <td>4.33</td>\n",
       "      <td>2019-12-14</td>\n",
       "      <td>Starbucks</td>\n",
       "      <td>Food and Drink</td>\n",
       "    </tr>\n",
       "    <tr>\n",
       "      <td>30</td>\n",
       "      <td>89.40</td>\n",
       "      <td>2019-12-13</td>\n",
       "      <td>SparkFun</td>\n",
       "      <td>Food and Drink</td>\n",
       "    </tr>\n",
       "    <tr>\n",
       "      <td>32</td>\n",
       "      <td>500.00</td>\n",
       "      <td>2019-12-02</td>\n",
       "      <td>United Airlines</td>\n",
       "      <td>Travel</td>\n",
       "    </tr>\n",
       "    <tr>\n",
       "      <td>33</td>\n",
       "      <td>6.33</td>\n",
       "      <td>2019-11-30</td>\n",
       "      <td>Uber</td>\n",
       "      <td>Travel</td>\n",
       "    </tr>\n",
       "    <tr>\n",
       "      <td>34</td>\n",
       "      <td>500.00</td>\n",
       "      <td>2019-11-27</td>\n",
       "      <td>Tectra Inc</td>\n",
       "      <td>Food and Drink</td>\n",
       "    </tr>\n",
       "    <tr>\n",
       "      <td>35</td>\n",
       "      <td>2078.50</td>\n",
       "      <td>2019-11-26</td>\n",
       "      <td>AUTOMATIC PAYMENT - THANK</td>\n",
       "      <td>Payment</td>\n",
       "    </tr>\n",
       "    <tr>\n",
       "      <td>36</td>\n",
       "      <td>500.00</td>\n",
       "      <td>2019-11-26</td>\n",
       "      <td>KFC</td>\n",
       "      <td>Food and Drink</td>\n",
       "    </tr>\n",
       "    <tr>\n",
       "      <td>37</td>\n",
       "      <td>500.00</td>\n",
       "      <td>2019-11-26</td>\n",
       "      <td>Madison Bicycle Shop</td>\n",
       "      <td>Shops</td>\n",
       "    </tr>\n",
       "    <tr>\n",
       "      <td>38</td>\n",
       "      <td>25.00</td>\n",
       "      <td>2019-11-17</td>\n",
       "      <td>CREDIT CARD 3333 PAYMENT *//</td>\n",
       "      <td>Payment</td>\n",
       "    </tr>\n",
       "    <tr>\n",
       "      <td>39</td>\n",
       "      <td>5.40</td>\n",
       "      <td>2019-11-17</td>\n",
       "      <td>Uber</td>\n",
       "      <td>Travel</td>\n",
       "    </tr>\n",
       "    <tr>\n",
       "      <td>40</td>\n",
       "      <td>5850.00</td>\n",
       "      <td>2019-11-16</td>\n",
       "      <td>ACH Electronic CreditGUSTO PAY 123456</td>\n",
       "      <td>Transfer</td>\n",
       "    </tr>\n",
       "    <tr>\n",
       "      <td>41</td>\n",
       "      <td>1000.00</td>\n",
       "      <td>2019-11-16</td>\n",
       "      <td>CD DEPOSIT .INITIAL.</td>\n",
       "      <td>Transfer</td>\n",
       "    </tr>\n",
       "    <tr>\n",
       "      <td>42</td>\n",
       "      <td>78.50</td>\n",
       "      <td>2019-11-15</td>\n",
       "      <td>Touchstone Climbing</td>\n",
       "      <td>Recreation</td>\n",
       "    </tr>\n",
       "    <tr>\n",
       "      <td>44</td>\n",
       "      <td>12.00</td>\n",
       "      <td>2019-11-14</td>\n",
       "      <td>McDonald's</td>\n",
       "      <td>Food and Drink</td>\n",
       "    </tr>\n",
       "    <tr>\n",
       "      <td>45</td>\n",
       "      <td>4.33</td>\n",
       "      <td>2019-11-14</td>\n",
       "      <td>Starbucks</td>\n",
       "      <td>Food and Drink</td>\n",
       "    </tr>\n",
       "    <tr>\n",
       "      <td>46</td>\n",
       "      <td>89.40</td>\n",
       "      <td>2019-11-13</td>\n",
       "      <td>SparkFun</td>\n",
       "      <td>Food and Drink</td>\n",
       "    </tr>\n",
       "    <tr>\n",
       "      <td>48</td>\n",
       "      <td>500.00</td>\n",
       "      <td>2019-11-02</td>\n",
       "      <td>United Airlines</td>\n",
       "      <td>Travel</td>\n",
       "    </tr>\n",
       "    <tr>\n",
       "      <td>49</td>\n",
       "      <td>6.33</td>\n",
       "      <td>2019-10-31</td>\n",
       "      <td>Uber</td>\n",
       "      <td>Travel</td>\n",
       "    </tr>\n",
       "    <tr>\n",
       "      <td>50</td>\n",
       "      <td>500.00</td>\n",
       "      <td>2019-10-28</td>\n",
       "      <td>Tectra Inc</td>\n",
       "      <td>Food and Drink</td>\n",
       "    </tr>\n",
       "    <tr>\n",
       "      <td>51</td>\n",
       "      <td>2078.50</td>\n",
       "      <td>2019-10-27</td>\n",
       "      <td>AUTOMATIC PAYMENT - THANK</td>\n",
       "      <td>Payment</td>\n",
       "    </tr>\n",
       "    <tr>\n",
       "      <td>52</td>\n",
       "      <td>500.00</td>\n",
       "      <td>2019-10-27</td>\n",
       "      <td>KFC</td>\n",
       "      <td>Food and Drink</td>\n",
       "    </tr>\n",
       "    <tr>\n",
       "      <td>53</td>\n",
       "      <td>500.00</td>\n",
       "      <td>2019-10-27</td>\n",
       "      <td>Madison Bicycle Shop</td>\n",
       "      <td>Shops</td>\n",
       "    </tr>\n",
       "    <tr>\n",
       "      <td>54</td>\n",
       "      <td>25.00</td>\n",
       "      <td>2019-10-18</td>\n",
       "      <td>CREDIT CARD 3333 PAYMENT *//</td>\n",
       "      <td>Payment</td>\n",
       "    </tr>\n",
       "    <tr>\n",
       "      <td>55</td>\n",
       "      <td>5.40</td>\n",
       "      <td>2019-10-18</td>\n",
       "      <td>Uber</td>\n",
       "      <td>Travel</td>\n",
       "    </tr>\n",
       "  </tbody>\n",
       "</table>\n",
       "</div>"
      ],
      "text/plain": [
       "     amount       date                                   name   real category\n",
       "0    500.00 2020-01-31                        United Airlines          Travel\n",
       "1      6.33 2020-01-29                                   Uber          Travel\n",
       "2    500.00 2020-01-26                             Tectra Inc  Food and Drink\n",
       "3   2078.50 2020-01-25              AUTOMATIC PAYMENT - THANK         Payment\n",
       "4    500.00 2020-01-25                                    KFC  Food and Drink\n",
       "5    500.00 2020-01-25                   Madison Bicycle Shop           Shops\n",
       "6     25.00 2020-01-16           CREDIT CARD 3333 PAYMENT *//         Payment\n",
       "7      5.40 2020-01-16                                   Uber          Travel\n",
       "8   5850.00 2020-01-15  ACH Electronic CreditGUSTO PAY 123456        Transfer\n",
       "9   1000.00 2020-01-15                   CD DEPOSIT .INITIAL.        Transfer\n",
       "10    78.50 2020-01-14                    Touchstone Climbing      Recreation\n",
       "12    12.00 2020-01-13                             McDonald's  Food and Drink\n",
       "13     4.33 2020-01-13                              Starbucks  Food and Drink\n",
       "14    89.40 2020-01-12                               SparkFun  Food and Drink\n",
       "16   500.00 2020-01-01                        United Airlines          Travel\n",
       "17     6.33 2019-12-30                                   Uber          Travel\n",
       "18   500.00 2019-12-27                             Tectra Inc  Food and Drink\n",
       "19  2078.50 2019-12-26              AUTOMATIC PAYMENT - THANK         Payment\n",
       "20   500.00 2019-12-26                                    KFC  Food and Drink\n",
       "21   500.00 2019-12-26                   Madison Bicycle Shop           Shops\n",
       "22    25.00 2019-12-17           CREDIT CARD 3333 PAYMENT *//         Payment\n",
       "23     5.40 2019-12-17                                   Uber          Travel\n",
       "24  5850.00 2019-12-16  ACH Electronic CreditGUSTO PAY 123456        Transfer\n",
       "25  1000.00 2019-12-16                   CD DEPOSIT .INITIAL.        Transfer\n",
       "26    78.50 2019-12-15                    Touchstone Climbing      Recreation\n",
       "28    12.00 2019-12-14                             McDonald's  Food and Drink\n",
       "29     4.33 2019-12-14                              Starbucks  Food and Drink\n",
       "30    89.40 2019-12-13                               SparkFun  Food and Drink\n",
       "32   500.00 2019-12-02                        United Airlines          Travel\n",
       "33     6.33 2019-11-30                                   Uber          Travel\n",
       "34   500.00 2019-11-27                             Tectra Inc  Food and Drink\n",
       "35  2078.50 2019-11-26              AUTOMATIC PAYMENT - THANK         Payment\n",
       "36   500.00 2019-11-26                                    KFC  Food and Drink\n",
       "37   500.00 2019-11-26                   Madison Bicycle Shop           Shops\n",
       "38    25.00 2019-11-17           CREDIT CARD 3333 PAYMENT *//         Payment\n",
       "39     5.40 2019-11-17                                   Uber          Travel\n",
       "40  5850.00 2019-11-16  ACH Electronic CreditGUSTO PAY 123456        Transfer\n",
       "41  1000.00 2019-11-16                   CD DEPOSIT .INITIAL.        Transfer\n",
       "42    78.50 2019-11-15                    Touchstone Climbing      Recreation\n",
       "44    12.00 2019-11-14                             McDonald's  Food and Drink\n",
       "45     4.33 2019-11-14                              Starbucks  Food and Drink\n",
       "46    89.40 2019-11-13                               SparkFun  Food and Drink\n",
       "48   500.00 2019-11-02                        United Airlines          Travel\n",
       "49     6.33 2019-10-31                                   Uber          Travel\n",
       "50   500.00 2019-10-28                             Tectra Inc  Food and Drink\n",
       "51  2078.50 2019-10-27              AUTOMATIC PAYMENT - THANK         Payment\n",
       "52   500.00 2019-10-27                                    KFC  Food and Drink\n",
       "53   500.00 2019-10-27                   Madison Bicycle Shop           Shops\n",
       "54    25.00 2019-10-18           CREDIT CARD 3333 PAYMENT *//         Payment\n",
       "55     5.40 2019-10-18                                   Uber          Travel"
      ]
     },
     "execution_count": 32,
     "metadata": {},
     "output_type": "execute_result"
    }
   ],
   "source": [
    "filtered_transaction_df.head(50)"
   ]
  },
  {
   "cell_type": "code",
   "execution_count": 33,
   "metadata": {},
   "outputs": [
    {
     "data": {
      "text/plain": [
       "amount                  float64\n",
       "date             datetime64[ns]\n",
       "name                     object\n",
       "real category            object\n",
       "dtype: object"
      ]
     },
     "execution_count": 33,
     "metadata": {},
     "output_type": "execute_result"
    }
   ],
   "source": [
    "filtered_transaction_df.dtypes"
   ]
  },
  {
   "cell_type": "markdown",
   "metadata": {},
   "source": [
    "---"
   ]
  },
  {
   "cell_type": "markdown",
   "metadata": {},
   "source": [
    "# Budget Analysis\n",
    "\n"
   ]
  },
  {
   "cell_type": "code",
   "execution_count": 34,
   "metadata": {},
   "outputs": [
    {
     "data": {
      "text/plain": [
       "<matplotlib.axes._subplots.AxesSubplot at 0x217a7ef6488>"
      ]
     },
     "execution_count": 34,
     "metadata": {},
     "output_type": "execute_result"
    },
    {
     "data": {
      "image/png": "[encoded data removed]",
      "text/plain": [
       "<Figure size 432x288 with 1 Axes>"
      ]
     },
     "metadata": {},
     "output_type": "display_data"
    }
   ],
   "source": [
    "filtered_transaction_df['real category'].value_counts().plot(kind=\"pie\")"
   ]
  },
  {
   "cell_type": "markdown",
   "metadata": {},
   "source": [
    "## Generate a bar chart with the number of transactions for each category "
   ]
  },
  {
   "cell_type": "code",
   "execution_count": 35,
   "metadata": {},
   "outputs": [
    {
     "data": {
      "text/plain": [
       "<matplotlib.axes._subplots.AxesSubplot at 0x217a7f6c988>"
      ]
     },
     "execution_count": 35,
     "metadata": {},
     "output_type": "execute_result"
    },
    {
     "data": {
      "image/png": "[encoded data removed]",
      "text/plain": [
       "<Figure size 432x288 with 1 Axes>"
      ]
     },
     "metadata": {
      "needs_background": "light"
     },
     "output_type": "display_data"
    }
   ],
   "source": [
    "filtered_transaction_df['real category'].value_counts().plot(kind=\"bar\")"
   ]
  },
  {
   "cell_type": "markdown",
   "metadata": {},
   "source": [
    "## Calculate the total spending per category and print the results"
   ]
  },
  {
   "cell_type": "code",
   "execution_count": 36,
   "metadata": {},
   "outputs": [
    {
     "data": {
      "text/html": [
       "<div>\n",
       "<style scoped>\n",
       "    .dataframe tbody tr th:only-of-type {\n",
       "        vertical-align: middle;\n",
       "    }\n",
       "\n",
       "    .dataframe tbody tr th {\n",
       "        vertical-align: top;\n",
       "    }\n",
       "\n",
       "    .dataframe thead th {\n",
       "        text-align: right;\n",
       "    }\n",
       "</style>\n",
       "<table border=\"1\" class=\"dataframe\">\n",
       "  <thead>\n",
       "    <tr style=\"text-align: right;\">\n",
       "      <th></th>\n",
       "      <th>amount</th>\n",
       "    </tr>\n",
       "    <tr>\n",
       "      <th>real category</th>\n",
       "      <th></th>\n",
       "    </tr>\n",
       "  </thead>\n",
       "  <tbody>\n",
       "    <tr>\n",
       "      <td>Food and Drink</td>\n",
       "      <td>5528.65</td>\n",
       "    </tr>\n",
       "    <tr>\n",
       "      <td>Payment</td>\n",
       "      <td>10517.50</td>\n",
       "    </tr>\n",
       "    <tr>\n",
       "      <td>Recreation</td>\n",
       "      <td>392.50</td>\n",
       "    </tr>\n",
       "    <tr>\n",
       "      <td>Shops</td>\n",
       "      <td>2500.00</td>\n",
       "    </tr>\n",
       "    <tr>\n",
       "      <td>Transfer</td>\n",
       "      <td>34250.00</td>\n",
       "    </tr>\n",
       "  </tbody>\n",
       "</table>\n",
       "</div>"
      ],
      "text/plain": [
       "                  amount\n",
       "real category           \n",
       "Food and Drink   5528.65\n",
       "Payment         10517.50\n",
       "Recreation        392.50\n",
       "Shops            2500.00\n",
       "Transfer        34250.00"
      ]
     },
     "execution_count": 36,
     "metadata": {},
     "output_type": "execute_result"
    }
   ],
   "source": [
    "spending_per_category = filtered_transaction_df.groupby('real category').sum()\n",
    "spending_per_category.head()"
   ]
  },
  {
   "cell_type": "markdown",
   "metadata": {},
   "source": [
    "## Calculate the expenses per month"
   ]
  },
  {
   "cell_type": "code",
   "execution_count": 37,
   "metadata": {},
   "outputs": [
    {
     "data": {
      "text/html": [
       "<div>\n",
       "<style scoped>\n",
       "    .dataframe tbody tr th:only-of-type {\n",
       "        vertical-align: middle;\n",
       "    }\n",
       "\n",
       "    .dataframe tbody tr th {\n",
       "        vertical-align: top;\n",
       "    }\n",
       "\n",
       "    .dataframe thead th {\n",
       "        text-align: right;\n",
       "    }\n",
       "</style>\n",
       "<table border=\"1\" class=\"dataframe\">\n",
       "  <thead>\n",
       "    <tr style=\"text-align: right;\">\n",
       "      <th></th>\n",
       "      <th>amount</th>\n",
       "    </tr>\n",
       "    <tr>\n",
       "      <th>date</th>\n",
       "      <th></th>\n",
       "    </tr>\n",
       "  </thead>\n",
       "  <tbody>\n",
       "    <tr>\n",
       "      <td>2019-09-01</td>\n",
       "      <td>10643.13</td>\n",
       "    </tr>\n",
       "    <tr>\n",
       "      <td>2019-10-01</td>\n",
       "      <td>11155.79</td>\n",
       "    </tr>\n",
       "    <tr>\n",
       "      <td>2019-11-01</td>\n",
       "      <td>11149.46</td>\n",
       "    </tr>\n",
       "    <tr>\n",
       "      <td>2019-12-01</td>\n",
       "      <td>11149.46</td>\n",
       "    </tr>\n",
       "    <tr>\n",
       "      <td>2020-01-01</td>\n",
       "      <td>11649.46</td>\n",
       "    </tr>\n",
       "  </tbody>\n",
       "</table>\n",
       "</div>"
      ],
      "text/plain": [
       "              amount\n",
       "date                \n",
       "2019-09-01  10643.13\n",
       "2019-10-01  11155.79\n",
       "2019-11-01  11149.46\n",
       "2019-12-01  11149.46\n",
       "2020-01-01  11649.46"
      ]
     },
     "execution_count": 37,
     "metadata": {},
     "output_type": "execute_result"
    }
   ],
   "source": [
    "filtered_transaction_df.set_index(\"date\",inplace=True)\n",
    "bar_data = filtered_transaction_df.resample('MS').sum()\n",
    "bar_data.head()"
   ]
  },
  {
   "cell_type": "markdown",
   "metadata": {},
   "source": [
    "## Plot the total expenses per month"
   ]
  },
  {
   "cell_type": "code",
   "execution_count": 38,
   "metadata": {},
   "outputs": [
    {
     "data": {
      "text/plain": [
       "<matplotlib.axes._subplots.AxesSubplot at 0x217a7108d88>"
      ]
     },
     "execution_count": 38,
     "metadata": {},
     "output_type": "execute_result"
    },
    {
     "data": {
      "image/png": "[encoded data removed]",
      "text/plain": [
       "<Figure size 1440x720 with 1 Axes>"
      ]
     },
     "metadata": {
      "needs_background": "light"
     },
     "output_type": "display_data"
    }
   ],
   "source": [
    "bar_data.plot(figsize=(20,10))"
   ]
  },
  {
   "cell_type": "markdown",
   "metadata": {},
   "source": [
    "---"
   ]
  },
  {
   "cell_type": "markdown",
   "metadata": {},
   "source": [
    "# Income Analysis with Plaid\n",
    "\n",
    "In this section, you will use the Plaid Sandbox to complete the following:\n",
    "1. Determine the previous year's gross income and print the results\n",
    "2. Determine the current monthly income and print the results\n",
    "3. Determine the projected yearly income and print the results"
   ]
  },
  {
   "cell_type": "code",
   "execution_count": 39,
   "metadata": {},
   "outputs": [],
   "source": [
    "create_tkn_response_2 = client.Sandbox.public_token.create(INSTITUTION_ID, ['income'])"
   ]
  },
  {
   "cell_type": "code",
   "execution_count": 40,
   "metadata": {},
   "outputs": [],
   "source": [
    "exchange_response_2 = client.Item.public_token.exchange(create_tkn_response_2['public_token'])\n",
    "access_token_2 = exchange_response_2['access_token']"
   ]
  },
  {
   "cell_type": "code",
   "execution_count": 41,
   "metadata": {},
   "outputs": [
    {
     "data": {
      "text/plain": [
       "{'income': {'income_streams': [{'confidence': 0.99,\n",
       "    'days': 690,\n",
       "    'monthly_income': 500,\n",
       "    'name': 'UNITED AIRLINES'}],\n",
       "  'last_year_income': 6000,\n",
       "  'last_year_income_before_tax': 7285,\n",
       "  'max_number_of_overlapping_income_streams': 1,\n",
       "  'number_of_income_streams': 1,\n",
       "  'projected_yearly_income': 6085,\n",
       "  'projected_yearly_income_before_tax': 7389},\n",
       " 'request_id': 'h7pEXucmcAlkrLt'}"
      ]
     },
     "execution_count": 41,
     "metadata": {},
     "output_type": "execute_result"
    }
   ],
   "source": [
    "client.Income.get(access_token_2)"
   ]
  },
  {
   "cell_type": "code",
   "execution_count": 42,
   "metadata": {},
   "outputs": [],
   "source": [
    "income_response = client.Income.get(access_token_2)\n",
    "last_year_income = income_response['income']\n",
    "\n"
   ]
  },
  {
   "cell_type": "code",
   "execution_count": 45,
   "metadata": {},
   "outputs": [
    {
     "name": "stdout",
     "output_type": "stream",
     "text": [
      "{\"income_streams\": [{\"confidence\": 0.99, \"days\": 690, \"monthly_income\": 500, \"name\": \"UNITED AIRLINES\"}], \"last_year_income\": 6000, \"last_year_income_before_tax\": 7285, \"max_number_of_overlapping_income_streams\": 1, \"number_of_income_streams\": 1, \"projected_yearly_income\": 6085, \"projected_yearly_income_before_tax\": 7389}\n"
     ]
    }
   ],
   "source": [
    "# to print first 3 items of the last_90_day_transactions\n",
    "print(json.dumps(last_year_income))"
   ]
  },
  {
   "cell_type": "markdown",
   "metadata": {},
   "source": [
    "## Last Year's income, Monthly income and Projected Income"
   ]
  },
  {
   "cell_type": "code",
   "execution_count": 56,
   "metadata": {},
   "outputs": [
    {
     "name": "stdout",
     "output_type": "stream",
     "text": [
      "7285\n"
     ]
    }
   ],
   "source": [
    "print(income_response['income']['last_year_income_before_tax'])"
   ]
  },
  {
   "cell_type": "code",
   "execution_count": 64,
   "metadata": {},
   "outputs": [
    {
     "name": "stdout",
     "output_type": "stream",
     "text": [
      "500\n"
     ]
    }
   ],
   "source": [
    "print(income_response['income']['income_streams'][0]['monthly_income'])"
   ]
  },
  {
   "cell_type": "code",
   "execution_count": 65,
   "metadata": {},
   "outputs": [
    {
     "name": "stdout",
     "output_type": "stream",
     "text": [
      "7389\n"
     ]
    }
   ],
   "source": [
    "print(income_response['income']['projected_yearly_income_before_tax'])"
   ]
  },
  {
   "cell_type": "code",
   "execution_count": null,
   "metadata": {},
   "outputs": [],
   "source": []
  }
 ],
 "metadata": {
  "kernel_info": {
   "name": "dev"
  },
  "kernelspec": {
   "display_name": "Python 3",
   "language": "python",
   "name": "python3"
  },
  "language_info": {
   "codemirror_mode": {
    "name": "ipython",
    "version": 3
   },
   "file_extension": ".py",
   "mimetype": "text/x-python",
   "name": "python",
   "nbconvert_exporter": "python",
   "pygments_lexer": "ipython3",
   "version": "3.7.4"
  },
  "nteract": {
   "version": "0.12.3"
  }
 },
 "nbformat": 4,
 "nbformat_minor": 4
}
